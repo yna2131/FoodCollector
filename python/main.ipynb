{
 "cells": [
  {
   "cell_type": "code",
   "execution_count": null,
   "metadata": {},
   "outputs": [],
   "source": [
    "##imports:\n",
    "\n",
    "from foodCollectModel import FoodModel\n",
    "\n",
    "%matplotlib inline\n",
    "import matplotlib\n",
    "import matplotlib.pyplot as plt\n",
    "import matplotlib.animation as animation\n",
    "from matplotlib import rc\n",
    "rc('animation', html='jshtml')\n",
    "plt.rcParams[\"animation.html\"] = \"jshtml\"\n",
    "matplotlib.rcParams['animation.embed_limit'] = 2**128\n",
    "\n",
    "import numpy as np\n",
    "import pandas as pd\n",
    "\n",
    "import time\n",
    "from IPython import display\n",
    "\n",
    "import seaborn as sns\n"
   ]
  },
  {
   "cell_type": "code",
   "execution_count": null,
   "metadata": {},
   "outputs": [],
   "source": [
    "##constants:\n",
    "WIDTH = 20\n",
    "HEIGHT = 20\n",
    "COUNT_FOOD = 47\n",
    "NUM_EXPLORERS = 3\n",
    "NUM_COLLECTORS = 2\n",
    "STEPS = 1500\n",
    "\n",
    "\n",
    "total_steps = 0"
   ]
  },
  {
   "cell_type": "code",
   "execution_count": null,
   "metadata": {},
   "outputs": [],
   "source": [
    "##running the model:\n",
    "model = FoodModel(WIDTH, HEIGHT, NUM_EXPLORERS, NUM_COLLECTORS, COUNT_FOOD)\n",
    "\n",
    "for i in range(STEPS):\n",
    "    if model.collected_food < 47:\n",
    "        model.step()\n",
    "        total_steps += 1\n",
    "    else:\n",
    "        break\n",
    "\n",
    "print(f\"Steps: {total_steps}\")\n",
    "print(f\"Food Collected: {model.collected_food}\")\n"
   ]
  },
  {
   "cell_type": "code",
   "execution_count": null,
   "metadata": {},
   "outputs": [],
   "source": [
    "##collecting data:\n",
    "all_grids = model.datacollector.get_model_vars_dataframe()\n",
    "\n",
    "agentData = all_grids.get(\"AgentPositions\")\n",
    "floorData = all_grids.get(\"Floor\")\n"
   ]
  },
  {
   "cell_type": "code",
   "execution_count": null,
   "metadata": {},
   "outputs": [],
   "source": [
    "##plotting the model:\n",
    "fig, axis = plt.subplots(figsize = (5,5))\n",
    "axis.set_xticks([])\n",
    "axis.set_yticks([])\n",
    "\n",
    "all_data = all_grids.get(\"AgentPositions\") * 10 + all_grids.get(\"Floor\")\n",
    "\n",
    "patch = axis.imshow(all_data[10], cmap = \"binary\")\n",
    "\n",
    "def animate(frame):\n",
    "    patch.set_data(all_data.iloc[frame])\n",
    "\n",
    "anim = animation.FuncAnimation(fig, animate, frames = total_steps)"
   ]
  },
  {
   "cell_type": "code",
   "execution_count": null,
   "metadata": {},
   "outputs": [],
   "source": [
    "# ##saving the animation:\n",
    "# sns.heatmap(\n",
    "#     all_grids.iloc[0][\"Floor\"],\n",
    "#     annot=True, \n",
    "#     fmt=\"g\", cmap=\"Pastel1\", \n",
    "#     cbar_kws={\"label\": \"Number of Boxes\"}\n",
    "# )\n",
    "\n",
    "# plt.show()"
   ]
  },
  {
   "cell_type": "code",
   "execution_count": null,
   "metadata": {},
   "outputs": [],
   "source": [
    "# sns.heatmap(\n",
    "#     all_grids[\"Floor\"].iloc[model.schedule.steps - 1],\n",
    "#     annot=True, \n",
    "#     fmt=\"g\", \n",
    "#     cmap=\"Pastel1\", \n",
    "#     cbar_kws={\"label\": \"Number of Boxes\"}\n",
    "# )\n",
    "\n",
    "# plt.show()"
   ]
  },
  {
   "cell_type": "code",
   "execution_count": null,
   "metadata": {},
   "outputs": [],
   "source": [
    "anim"
   ]
  }
 ],
 "metadata": {
  "kernelspec": {
   "display_name": "Python 3",
   "language": "python",
   "name": "python3"
  },
  "language_info": {
   "codemirror_mode": {
    "name": "ipython",
    "version": 3
   },
   "file_extension": ".py",
   "mimetype": "text/x-python",
   "name": "python",
   "nbconvert_exporter": "python",
   "pygments_lexer": "ipython3",
   "version": "3.12.0"
  }
 },
 "nbformat": 4,
 "nbformat_minor": 2
}
